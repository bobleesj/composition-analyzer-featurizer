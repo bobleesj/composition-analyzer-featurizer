{
 "cells": [
  {
   "cell_type": "code",
   "execution_count": null,
   "id": "4e66ea6e",
   "metadata": {},
   "outputs": [],
   "source": [
    "import pandas as pd\n",
    "from CAF.features import generator\n",
    "from bobleesj.utils.sources.oliynyk import Property as P"
   ]
  },
  {
   "cell_type": "code",
   "execution_count": 15,
   "id": "db7e3eb2",
   "metadata": {},
   "outputs": [],
   "source": [
    "# Prepare the data\n",
    "df = pd.read_excel('formulas.xlsx', sheet_name=0)\n",
    "# Get the list of formulas\n",
    "formulas = df['Formula'].tolist()\n",
    "# Get OLED \n",
    "db = get_oliynyk_dict()"
   ]
  },
  {
   "cell_type": "code",
   "execution_count": 16,
   "id": "10755e31",
   "metadata": {},
   "outputs": [],
   "source": [
    "# Generate features\n",
    "binary_features, ternary_features, quaternary_features = generator.get_composition_features(formulas, db)\n",
    "univeral_features = generator.get_universal_features(formulas, db)"
   ]
  },
  {
   "cell_type": "code",
   "execution_count": 17,
   "id": "c3f79187",
   "metadata": {},
   "outputs": [],
   "source": [
    "# Create a folder called CAF_features if it doesn't exist\n",
    "import os\n",
    "if not os.path.exists('./CAF_features'):\n",
    "    os.makedirs('./CAF_features')"
   ]
  },
  {
   "cell_type": "code",
   "execution_count": 18,
   "id": "a28e76c7",
   "metadata": {},
   "outputs": [],
   "source": [
    "# Save files\n",
    "if binary_features:\n",
    "    binary_features = pd.DataFrame.from_dict(binary_features, orient='index')\n",
    "    binary_features.to_csv('./CAF_features/binary.csv', index=False)\n",
    "if ternary_features:\n",
    "    ternary_features = pd.DataFrame.from_dict(ternary_features, orient='index')\n",
    "    ternary_features.to_csv('./CAF_features/ternary.csv', index=False)\n",
    "if quaternary_features:\n",
    "    quaternary_features = pd.DataFrame.from_dict(quaternary_features, orient='index')\n",
    "    quaternary_features.to_csv('./CAF_features/quaternary.csv', index=False)\n",
    "if univeral_features:\n",
    "    univeral_features = pd.DataFrame.from_dict(univeral_features, orient='index')\n",
    "    univeral_features.to_csv('./CAF_features/universal.csv', index=False)\n"
   ]
  }
 ],
 "metadata": {
  "kernelspec": {
   "display_name": "cifkit-env",
   "language": "python",
   "name": "python3"
  },
  "language_info": {
   "codemirror_mode": {
    "name": "ipython",
    "version": 3
   },
   "file_extension": ".py",
   "mimetype": "text/x-python",
   "name": "python",
   "nbconvert_exporter": "python",
   "pygments_lexer": "ipython3",
   "version": "3.13.3"
  }
 },
 "nbformat": 4,
 "nbformat_minor": 5
}
